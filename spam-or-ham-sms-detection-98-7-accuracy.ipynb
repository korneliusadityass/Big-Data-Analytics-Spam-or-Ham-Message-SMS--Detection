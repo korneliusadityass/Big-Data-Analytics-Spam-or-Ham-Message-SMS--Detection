{
 "cells": [
  {
   "cell_type": "markdown",
   "metadata": {
    "papermill": {
     "duration": 0.03506,
     "end_time": "2020-11-21T14:06:11.073758",
     "exception": false,
     "start_time": "2020-11-21T14:06:11.038698",
     "status": "completed"
    },
    "tags": []
   },
   "source": [
    "# Spam Message Classifier"
   ]
  },
  {
   "cell_type": "markdown",
   "metadata": {
    "papermill": {
     "duration": 0.033632,
     "end_time": "2020-11-21T14:06:11.140811",
     "exception": false,
     "start_time": "2020-11-21T14:06:11.107179",
     "status": "completed"
    },
    "tags": []
   },
   "source": [
    "**Table of Contents--**<br>\n",
    "<ol>\n",
    "    <li>Importing Libraries</li>\n",
    "    <li>Data Visualization</li>\n",
    "    <li>Data Preprocessing</li>\n",
    "    <li>Model Training</li>\n",
    "    <li>Conclusion</li>\n",
    "</ol>"
   ]
  },
  {
   "cell_type": "code",
   "execution_count": 1,
   "metadata": {
    "_cell_guid": "b1076dfc-b9ad-4769-8c92-a6c4dae69d19",
    "_uuid": "8f2839f25d086af736a60e9eeb907d3b93b6e0e5",
    "execution": {
     "iopub.execute_input": "2020-11-21T14:06:11.214932Z",
     "iopub.status.busy": "2020-11-21T14:06:11.214254Z",
     "iopub.status.idle": "2020-11-21T14:06:11.221723Z",
     "shell.execute_reply": "2020-11-21T14:06:11.222410Z"
    },
    "papermill": {
     "duration": 0.048958,
     "end_time": "2020-11-21T14:06:11.222562",
     "exception": false,
     "start_time": "2020-11-21T14:06:11.173604",
     "status": "completed"
    },
    "tags": []
   },
   "outputs": [
    {
     "name": "stdout",
     "output_type": "stream",
     "text": [
      "/kaggle/input/sms-spam-collection-dataset/spam.csv\n"
     ]
    }
   ],
   "source": [
    "# This Python 3 environment comes with many helpful analytics libraries installed\n",
    "# It is defined by the kaggle/python Docker image: https://github.com/kaggle/docker-python\n",
    "# For example, here's several helpful packages to load\n",
    "\n",
    "import numpy as np # linear algebra\n",
    "import pandas as pd # data processing, CSV file I/O (e.g. pd.read_csv)\n",
    "\n",
    "# Input data files are available in the read-only \"../input/\" directory\n",
    "# For example, running this (by clicking run or pressing Shift+Enter) will list all files under the input directory\n",
    "\n",
    "import os\n",
    "for dirname, _, filenames in os.walk('/kaggle/input'):\n",
    "    for filename in filenames:\n",
    "        print(os.path.join(dirname, filename))\n",
    "\n",
    "# You can write up to 20GB to the current directory (/kaggle/working/) that gets preserved as output when you create a version using \"Save & Run All\" \n",
    "# You can also write temporary files to /kaggle/temp/, but they won't be saved outside of the current session"
   ]
  },
  {
   "cell_type": "markdown",
   "metadata": {
    "papermill": {
     "duration": 0.034139,
     "end_time": "2020-11-21T14:06:11.292499",
     "exception": false,
     "start_time": "2020-11-21T14:06:11.258360",
     "status": "completed"
    },
    "tags": []
   },
   "source": [
    "**Importing libraries-->**"
   ]
  },
  {
   "cell_type": "code",
   "execution_count": 2,
   "metadata": {
    "execution": {
     "iopub.execute_input": "2020-11-21T14:06:11.368282Z",
     "iopub.status.busy": "2020-11-21T14:06:11.367530Z",
     "iopub.status.idle": "2020-11-21T14:06:12.347920Z",
     "shell.execute_reply": "2020-11-21T14:06:12.346706Z"
    },
    "papermill": {
     "duration": 1.022266,
     "end_time": "2020-11-21T14:06:12.348056",
     "exception": false,
     "start_time": "2020-11-21T14:06:11.325790",
     "status": "completed"
    },
    "tags": []
   },
   "outputs": [],
   "source": [
    "import warnings\n",
    "warnings.filterwarnings('ignore')\n",
    "import pandas as pd\n",
    "import numpy as np\n",
    "import seaborn as sns\n",
    "import matplotlib.pyplot as plt\n",
    "%matplotlib inline"
   ]
  },
  {
   "cell_type": "markdown",
   "metadata": {
    "papermill": {
     "duration": 0.036487,
     "end_time": "2020-11-21T14:06:12.419138",
     "exception": false,
     "start_time": "2020-11-21T14:06:12.382651",
     "status": "completed"
    },
    "tags": []
   },
   "source": [
    "**Dataset reading--->**"
   ]
  },
  {
   "cell_type": "code",
   "execution_count": 3,
   "metadata": {
    "_cell_guid": "79c7e3d0-c299-4dcb-8224-4455121ee9b0",
    "_uuid": "d629ff2d2480ee46fbb7e2d37f6b5fab8052498a",
    "execution": {
     "iopub.execute_input": "2020-11-21T14:06:12.494355Z",
     "iopub.status.busy": "2020-11-21T14:06:12.493683Z",
     "iopub.status.idle": "2020-11-21T14:06:12.535253Z",
     "shell.execute_reply": "2020-11-21T14:06:12.535897Z"
    },
    "papermill": {
     "duration": 0.080941,
     "end_time": "2020-11-21T14:06:12.536027",
     "exception": false,
     "start_time": "2020-11-21T14:06:12.455086",
     "status": "completed"
    },
    "tags": []
   },
   "outputs": [
    {
     "data": {
      "text/html": [
       "<div>\n",
       "<style scoped>\n",
       "    .dataframe tbody tr th:only-of-type {\n",
       "        vertical-align: middle;\n",
       "    }\n",
       "\n",
       "    .dataframe tbody tr th {\n",
       "        vertical-align: top;\n",
       "    }\n",
       "\n",
       "    .dataframe thead th {\n",
       "        text-align: right;\n",
       "    }\n",
       "</style>\n",
       "<table border=\"1\" class=\"dataframe\">\n",
       "  <thead>\n",
       "    <tr style=\"text-align: right;\">\n",
       "      <th></th>\n",
       "      <th>v1</th>\n",
       "      <th>v2</th>\n",
       "      <th>Unnamed: 2</th>\n",
       "      <th>Unnamed: 3</th>\n",
       "      <th>Unnamed: 4</th>\n",
       "    </tr>\n",
       "  </thead>\n",
       "  <tbody>\n",
       "    <tr>\n",
       "      <th>0</th>\n",
       "      <td>ham</td>\n",
       "      <td>Go until jurong point, crazy.. Available only ...</td>\n",
       "      <td>NaN</td>\n",
       "      <td>NaN</td>\n",
       "      <td>NaN</td>\n",
       "    </tr>\n",
       "    <tr>\n",
       "      <th>1</th>\n",
       "      <td>ham</td>\n",
       "      <td>Ok lar... Joking wif u oni...</td>\n",
       "      <td>NaN</td>\n",
       "      <td>NaN</td>\n",
       "      <td>NaN</td>\n",
       "    </tr>\n",
       "    <tr>\n",
       "      <th>2</th>\n",
       "      <td>spam</td>\n",
       "      <td>Free entry in 2 a wkly comp to win FA Cup fina...</td>\n",
       "      <td>NaN</td>\n",
       "      <td>NaN</td>\n",
       "      <td>NaN</td>\n",
       "    </tr>\n",
       "    <tr>\n",
       "      <th>3</th>\n",
       "      <td>ham</td>\n",
       "      <td>U dun say so early hor... U c already then say...</td>\n",
       "      <td>NaN</td>\n",
       "      <td>NaN</td>\n",
       "      <td>NaN</td>\n",
       "    </tr>\n",
       "    <tr>\n",
       "      <th>4</th>\n",
       "      <td>ham</td>\n",
       "      <td>Nah I don't think he goes to usf, he lives aro...</td>\n",
       "      <td>NaN</td>\n",
       "      <td>NaN</td>\n",
       "      <td>NaN</td>\n",
       "    </tr>\n",
       "  </tbody>\n",
       "</table>\n",
       "</div>"
      ],
      "text/plain": [
       "     v1                                                 v2 Unnamed: 2  \\\n",
       "0   ham  Go until jurong point, crazy.. Available only ...        NaN   \n",
       "1   ham                      Ok lar... Joking wif u oni...        NaN   \n",
       "2  spam  Free entry in 2 a wkly comp to win FA Cup fina...        NaN   \n",
       "3   ham  U dun say so early hor... U c already then say...        NaN   \n",
       "4   ham  Nah I don't think he goes to usf, he lives aro...        NaN   \n",
       "\n",
       "  Unnamed: 3 Unnamed: 4  \n",
       "0        NaN        NaN  \n",
       "1        NaN        NaN  \n",
       "2        NaN        NaN  \n",
       "3        NaN        NaN  \n",
       "4        NaN        NaN  "
      ]
     },
     "execution_count": 3,
     "metadata": {},
     "output_type": "execute_result"
    }
   ],
   "source": [
    "df = pd.read_csv('../input/sms-spam-collection-dataset/spam.csv',encoding='latin1')\n",
    "df.head()\n"
   ]
  },
  {
   "cell_type": "code",
   "execution_count": 4,
   "metadata": {
    "execution": {
     "iopub.execute_input": "2020-11-21T14:06:12.618449Z",
     "iopub.status.busy": "2020-11-21T14:06:12.617621Z",
     "iopub.status.idle": "2020-11-21T14:06:12.621675Z",
     "shell.execute_reply": "2020-11-21T14:06:12.622425Z"
    },
    "papermill": {
     "duration": 0.049424,
     "end_time": "2020-11-21T14:06:12.622586",
     "exception": false,
     "start_time": "2020-11-21T14:06:12.573162",
     "status": "completed"
    },
    "tags": []
   },
   "outputs": [
    {
     "name": "stdout",
     "output_type": "stream",
     "text": [
      "Null Values entry in Unnamed:2 column=5522\n",
      "Null Values entry in Unnamed:3 column=5560\n",
      "Null Values entry in Unnamed:4 column=5522\n"
     ]
    }
   ],
   "source": [
    "print(\"Null Values entry in Unnamed:2 column={}\\nNull Values entry in Unnamed:3 column={}\\nNull Values entry in Unnamed:4 column={}\".format(df['Unnamed: 2'].isnull().sum(),df['Unnamed: 3'].isnull().sum(),df['Unnamed: 2'].isnull().sum()))"
   ]
  },
  {
   "cell_type": "code",
   "execution_count": 5,
   "metadata": {
    "execution": {
     "iopub.execute_input": "2020-11-21T14:06:12.698157Z",
     "iopub.status.busy": "2020-11-21T14:06:12.697382Z",
     "iopub.status.idle": "2020-11-21T14:06:12.701768Z",
     "shell.execute_reply": "2020-11-21T14:06:12.701138Z"
    },
    "papermill": {
     "duration": 0.043457,
     "end_time": "2020-11-21T14:06:12.701914",
     "exception": false,
     "start_time": "2020-11-21T14:06:12.658457",
     "status": "completed"
    },
    "tags": []
   },
   "outputs": [
    {
     "name": "stdout",
     "output_type": "stream",
     "text": [
      "shape of dataset: (5572, 5)\n"
     ]
    }
   ],
   "source": [
    "print(\"shape of dataset: {}\".format(df.shape))"
   ]
  },
  {
   "cell_type": "code",
   "execution_count": 6,
   "metadata": {
    "execution": {
     "iopub.execute_input": "2020-11-21T14:06:12.781408Z",
     "iopub.status.busy": "2020-11-21T14:06:12.780613Z",
     "iopub.status.idle": "2020-11-21T14:06:12.783186Z",
     "shell.execute_reply": "2020-11-21T14:06:12.783670Z"
    },
    "papermill": {
     "duration": 0.045819,
     "end_time": "2020-11-21T14:06:12.783797",
     "exception": false,
     "start_time": "2020-11-21T14:06:12.737978",
     "status": "completed"
    },
    "tags": []
   },
   "outputs": [],
   "source": [
    "df.drop(['Unnamed: 2','Unnamed: 3','Unnamed: 4'],axis=1,inplace=True)"
   ]
  },
  {
   "cell_type": "code",
   "execution_count": 7,
   "metadata": {
    "execution": {
     "iopub.execute_input": "2020-11-21T14:06:12.866067Z",
     "iopub.status.busy": "2020-11-21T14:06:12.865170Z",
     "iopub.status.idle": "2020-11-21T14:06:12.869618Z",
     "shell.execute_reply": "2020-11-21T14:06:12.869006Z"
    },
    "papermill": {
     "duration": 0.049846,
     "end_time": "2020-11-21T14:06:12.869755",
     "exception": false,
     "start_time": "2020-11-21T14:06:12.819909",
     "status": "completed"
    },
    "tags": []
   },
   "outputs": [
    {
     "data": {
      "text/html": [
       "<div>\n",
       "<style scoped>\n",
       "    .dataframe tbody tr th:only-of-type {\n",
       "        vertical-align: middle;\n",
       "    }\n",
       "\n",
       "    .dataframe tbody tr th {\n",
       "        vertical-align: top;\n",
       "    }\n",
       "\n",
       "    .dataframe thead th {\n",
       "        text-align: right;\n",
       "    }\n",
       "</style>\n",
       "<table border=\"1\" class=\"dataframe\">\n",
       "  <thead>\n",
       "    <tr style=\"text-align: right;\">\n",
       "      <th></th>\n",
       "      <th>v1</th>\n",
       "      <th>v2</th>\n",
       "    </tr>\n",
       "  </thead>\n",
       "  <tbody>\n",
       "    <tr>\n",
       "      <th>0</th>\n",
       "      <td>ham</td>\n",
       "      <td>Go until jurong point, crazy.. Available only ...</td>\n",
       "    </tr>\n",
       "    <tr>\n",
       "      <th>1</th>\n",
       "      <td>ham</td>\n",
       "      <td>Ok lar... Joking wif u oni...</td>\n",
       "    </tr>\n",
       "    <tr>\n",
       "      <th>2</th>\n",
       "      <td>spam</td>\n",
       "      <td>Free entry in 2 a wkly comp to win FA Cup fina...</td>\n",
       "    </tr>\n",
       "    <tr>\n",
       "      <th>3</th>\n",
       "      <td>ham</td>\n",
       "      <td>U dun say so early hor... U c already then say...</td>\n",
       "    </tr>\n",
       "    <tr>\n",
       "      <th>4</th>\n",
       "      <td>ham</td>\n",
       "      <td>Nah I don't think he goes to usf, he lives aro...</td>\n",
       "    </tr>\n",
       "    <tr>\n",
       "      <th>5</th>\n",
       "      <td>spam</td>\n",
       "      <td>FreeMsg Hey there darling it's been 3 week's n...</td>\n",
       "    </tr>\n",
       "    <tr>\n",
       "      <th>6</th>\n",
       "      <td>ham</td>\n",
       "      <td>Even my brother is not like to speak with me. ...</td>\n",
       "    </tr>\n",
       "    <tr>\n",
       "      <th>7</th>\n",
       "      <td>ham</td>\n",
       "      <td>As per your request 'Melle Melle (Oru Minnamin...</td>\n",
       "    </tr>\n",
       "    <tr>\n",
       "      <th>8</th>\n",
       "      <td>spam</td>\n",
       "      <td>WINNER!! As a valued network customer you have...</td>\n",
       "    </tr>\n",
       "    <tr>\n",
       "      <th>9</th>\n",
       "      <td>spam</td>\n",
       "      <td>Had your mobile 11 months or more? U R entitle...</td>\n",
       "    </tr>\n",
       "  </tbody>\n",
       "</table>\n",
       "</div>"
      ],
      "text/plain": [
       "     v1                                                 v2\n",
       "0   ham  Go until jurong point, crazy.. Available only ...\n",
       "1   ham                      Ok lar... Joking wif u oni...\n",
       "2  spam  Free entry in 2 a wkly comp to win FA Cup fina...\n",
       "3   ham  U dun say so early hor... U c already then say...\n",
       "4   ham  Nah I don't think he goes to usf, he lives aro...\n",
       "5  spam  FreeMsg Hey there darling it's been 3 week's n...\n",
       "6   ham  Even my brother is not like to speak with me. ...\n",
       "7   ham  As per your request 'Melle Melle (Oru Minnamin...\n",
       "8  spam  WINNER!! As a valued network customer you have...\n",
       "9  spam  Had your mobile 11 months or more? U R entitle..."
      ]
     },
     "execution_count": 7,
     "metadata": {},
     "output_type": "execute_result"
    }
   ],
   "source": [
    "df.head(10)"
   ]
  },
  {
   "cell_type": "code",
   "execution_count": 8,
   "metadata": {
    "execution": {
     "iopub.execute_input": "2020-11-21T14:06:12.957043Z",
     "iopub.status.busy": "2020-11-21T14:06:12.956052Z",
     "iopub.status.idle": "2020-11-21T14:06:12.959110Z",
     "shell.execute_reply": "2020-11-21T14:06:12.958581Z"
    },
    "papermill": {
     "duration": 0.048829,
     "end_time": "2020-11-21T14:06:12.959222",
     "exception": false,
     "start_time": "2020-11-21T14:06:12.910393",
     "status": "completed"
    },
    "tags": []
   },
   "outputs": [],
   "source": [
    "df.rename(columns={'v1':'Label','v2':'Msg'},inplace=True)"
   ]
  },
  {
   "cell_type": "markdown",
   "metadata": {
    "papermill": {
     "duration": 0.037016,
     "end_time": "2020-11-21T14:06:13.033940",
     "exception": false,
     "start_time": "2020-11-21T14:06:12.996924",
     "status": "completed"
    },
    "tags": []
   },
   "source": [
    "# Data Visualization"
   ]
  },
  {
   "cell_type": "code",
   "execution_count": 9,
   "metadata": {
    "execution": {
     "iopub.execute_input": "2020-11-21T14:06:13.122609Z",
     "iopub.status.busy": "2020-11-21T14:06:13.121853Z",
     "iopub.status.idle": "2020-11-21T14:06:13.324254Z",
     "shell.execute_reply": "2020-11-21T14:06:13.324752Z"
    },
    "papermill": {
     "duration": 0.252835,
     "end_time": "2020-11-21T14:06:13.324915",
     "exception": false,
     "start_time": "2020-11-21T14:06:13.072080",
     "status": "completed"
    },
    "tags": []
   },
   "outputs": [
    {
     "name": "stdout",
     "output_type": "stream",
     "text": [
      "total no. of ham msgs: 4825\n",
      "total no. of spam msgs: 747\n"
     ]
    },
    {
     "data": {
      "text/plain": [
       "<matplotlib.axes._subplots.AxesSubplot at 0x7f43b8b44190>"
      ]
     },
     "execution_count": 9,
     "metadata": {},
     "output_type": "execute_result"
    },
    {
     "data": {
      "image/png": "[encoded data removed]",
      "text/plain": [
       "<Figure size 432x288 with 1 Axes>"
      ]
     },
     "metadata": {
      "needs_background": "light"
     },
     "output_type": "display_data"
    }
   ],
   "source": [
    "print(\"total no. of ham msgs: {}\\ntotal no. of spam msgs: {}\".format(df['Label'].value_counts()[0],df['Label'].value_counts()[1]))\n",
    "df['Label'].value_counts().plot.bar()"
   ]
  },
  {
   "cell_type": "code",
   "execution_count": 10,
   "metadata": {
    "execution": {
     "iopub.execute_input": "2020-11-21T14:06:13.411301Z",
     "iopub.status.busy": "2020-11-21T14:06:13.410543Z",
     "iopub.status.idle": "2020-11-21T14:06:13.446292Z",
     "shell.execute_reply": "2020-11-21T14:06:13.446762Z"
    },
    "papermill": {
     "duration": 0.083109,
     "end_time": "2020-11-21T14:06:13.446917",
     "exception": false,
     "start_time": "2020-11-21T14:06:13.363808",
     "status": "completed"
    },
    "tags": []
   },
   "outputs": [
    {
     "data": {
      "text/html": [
       "<div>\n",
       "<style scoped>\n",
       "    .dataframe tbody tr th:only-of-type {\n",
       "        vertical-align: middle;\n",
       "    }\n",
       "\n",
       "    .dataframe tbody tr th {\n",
       "        vertical-align: top;\n",
       "    }\n",
       "\n",
       "    .dataframe thead th {\n",
       "        text-align: right;\n",
       "    }\n",
       "</style>\n",
       "<table border=\"1\" class=\"dataframe\">\n",
       "  <thead>\n",
       "    <tr style=\"text-align: right;\">\n",
       "      <th></th>\n",
       "      <th>Label</th>\n",
       "      <th>Msg</th>\n",
       "    </tr>\n",
       "  </thead>\n",
       "  <tbody>\n",
       "    <tr>\n",
       "      <th>count</th>\n",
       "      <td>5572</td>\n",
       "      <td>5572</td>\n",
       "    </tr>\n",
       "    <tr>\n",
       "      <th>unique</th>\n",
       "      <td>2</td>\n",
       "      <td>5169</td>\n",
       "    </tr>\n",
       "    <tr>\n",
       "      <th>top</th>\n",
       "      <td>ham</td>\n",
       "      <td>Sorry, I'll call later</td>\n",
       "    </tr>\n",
       "    <tr>\n",
       "      <th>freq</th>\n",
       "      <td>4825</td>\n",
       "      <td>30</td>\n",
       "    </tr>\n",
       "  </tbody>\n",
       "</table>\n",
       "</div>"
      ],
      "text/plain": [
       "       Label                     Msg\n",
       "count   5572                    5572\n",
       "unique     2                    5169\n",
       "top      ham  Sorry, I'll call later\n",
       "freq    4825                      30"
      ]
     },
     "execution_count": 10,
     "metadata": {},
     "output_type": "execute_result"
    }
   ],
   "source": [
    "df.describe()"
   ]
  },
  {
   "cell_type": "code",
   "execution_count": 11,
   "metadata": {
    "execution": {
     "iopub.execute_input": "2020-11-21T14:06:13.542989Z",
     "iopub.status.busy": "2020-11-21T14:06:13.541921Z",
     "iopub.status.idle": "2020-11-21T14:06:13.546554Z",
     "shell.execute_reply": "2020-11-21T14:06:13.545915Z"
    },
    "papermill": {
     "duration": 0.058319,
     "end_time": "2020-11-21T14:06:13.546660",
     "exception": false,
     "start_time": "2020-11-21T14:06:13.488341",
     "status": "completed"
    },
    "tags": []
   },
   "outputs": [
    {
     "data": {
      "text/html": [
       "<div>\n",
       "<style scoped>\n",
       "    .dataframe tbody tr th:only-of-type {\n",
       "        vertical-align: middle;\n",
       "    }\n",
       "\n",
       "    .dataframe tbody tr th {\n",
       "        vertical-align: top;\n",
       "    }\n",
       "\n",
       "    .dataframe thead th {\n",
       "        text-align: right;\n",
       "    }\n",
       "</style>\n",
       "<table border=\"1\" class=\"dataframe\">\n",
       "  <thead>\n",
       "    <tr style=\"text-align: right;\">\n",
       "      <th></th>\n",
       "      <th>Label</th>\n",
       "      <th>Msg</th>\n",
       "      <th>len</th>\n",
       "    </tr>\n",
       "  </thead>\n",
       "  <tbody>\n",
       "    <tr>\n",
       "      <th>0</th>\n",
       "      <td>ham</td>\n",
       "      <td>Go until jurong point, crazy.. Available only ...</td>\n",
       "      <td>111</td>\n",
       "    </tr>\n",
       "    <tr>\n",
       "      <th>1</th>\n",
       "      <td>ham</td>\n",
       "      <td>Ok lar... Joking wif u oni...</td>\n",
       "      <td>29</td>\n",
       "    </tr>\n",
       "    <tr>\n",
       "      <th>2</th>\n",
       "      <td>spam</td>\n",
       "      <td>Free entry in 2 a wkly comp to win FA Cup fina...</td>\n",
       "      <td>155</td>\n",
       "    </tr>\n",
       "    <tr>\n",
       "      <th>3</th>\n",
       "      <td>ham</td>\n",
       "      <td>U dun say so early hor... U c already then say...</td>\n",
       "      <td>49</td>\n",
       "    </tr>\n",
       "    <tr>\n",
       "      <th>4</th>\n",
       "      <td>ham</td>\n",
       "      <td>Nah I don't think he goes to usf, he lives aro...</td>\n",
       "      <td>61</td>\n",
       "    </tr>\n",
       "  </tbody>\n",
       "</table>\n",
       "</div>"
      ],
      "text/plain": [
       "  Label                                                Msg  len\n",
       "0   ham  Go until jurong point, crazy.. Available only ...  111\n",
       "1   ham                      Ok lar... Joking wif u oni...   29\n",
       "2  spam  Free entry in 2 a wkly comp to win FA Cup fina...  155\n",
       "3   ham  U dun say so early hor... U c already then say...   49\n",
       "4   ham  Nah I don't think he goes to usf, he lives aro...   61"
      ]
     },
     "execution_count": 11,
     "metadata": {},
     "output_type": "execute_result"
    }
   ],
   "source": [
    "df['len']=df['Msg'].apply(len)\n",
    "df.head()"
   ]
  },
  {
   "cell_type": "markdown",
   "metadata": {
    "papermill": {
     "duration": 0.039681,
     "end_time": "2020-11-21T14:06:13.626739",
     "exception": false,
     "start_time": "2020-11-21T14:06:13.587058",
     "status": "completed"
    },
    "tags": []
   },
   "source": [
    "Let's see the longest msg  and its label"
   ]
  },
  {
   "cell_type": "code",
   "execution_count": 12,
   "metadata": {
    "_kg_hide-input": true,
    "execution": {
     "iopub.execute_input": "2020-11-21T14:06:13.711854Z",
     "iopub.status.busy": "2020-11-21T14:06:13.711086Z",
     "iopub.status.idle": "2020-11-21T14:06:13.714785Z",
     "shell.execute_reply": "2020-11-21T14:06:13.715442Z"
    },
    "papermill": {
     "duration": 0.049121,
     "end_time": "2020-11-21T14:06:13.715597",
     "exception": false,
     "start_time": "2020-11-21T14:06:13.666476",
     "status": "completed"
    },
    "tags": []
   },
   "outputs": [
    {
     "name": "stdout",
     "output_type": "stream",
     "text": [
      "Message=For me the love should start with attraction.i should feel that I need her every time around me.she should be the first thing which comes in my thoughts.I would start the day and end it with her.she should be there every time I dream.love will be then when my every breath has her name.my life should happen around her.my life will be named to her.I would cry for her.will give all my happiness and take all her sorrows.I will be ready to fight with anyone for her.I will be in love when I will be doing the craziest things for her.love will be when I don't have to proove anyone that my girl is the most beautiful lady on the whole planet.I will always be singing praises for her.love will be when I start up making chicken curry and end up makiing sambar.life will be the most beautiful then.will get every morning and thank god for the day because she is with me.I would like to say a lot..will tell later..\n",
      "\n",
      "Label=ham\n"
     ]
    }
   ],
   "source": [
    "print(\"Message={}\\n\\nLabel={}\".format(df['Msg'][df['len'].idxmax()],df['Label'][df['len'].idxmax()]))"
   ]
  },
  {
   "cell_type": "markdown",
   "metadata": {
    "papermill": {
     "duration": 0.041995,
     "end_time": "2020-11-21T14:06:13.799428",
     "exception": false,
     "start_time": "2020-11-21T14:06:13.757433",
     "status": "completed"
    },
    "tags": []
   },
   "source": [
    "Let's see the shortest msg and its label"
   ]
  },
  {
   "cell_type": "code",
   "execution_count": 13,
   "metadata": {
    "_kg_hide-input": true,
    "execution": {
     "iopub.execute_input": "2020-11-21T14:06:13.888316Z",
     "iopub.status.busy": "2020-11-21T14:06:13.887523Z",
     "iopub.status.idle": "2020-11-21T14:06:13.891106Z",
     "shell.execute_reply": "2020-11-21T14:06:13.892039Z"
    },
    "papermill": {
     "duration": 0.051991,
     "end_time": "2020-11-21T14:06:13.892215",
     "exception": false,
     "start_time": "2020-11-21T14:06:13.840224",
     "status": "completed"
    },
    "tags": []
   },
   "outputs": [
    {
     "name": "stdout",
     "output_type": "stream",
     "text": [
      "Message=Ok\n",
      "\n",
      "Label=ham\n"
     ]
    }
   ],
   "source": [
    "print(\"Message={}\\n\\nLabel={}\".format(df['Msg'][df['len'].idxmin()],df['Label'][df['len'].idxmin()]))"
   ]
  },
  {
   "cell_type": "code",
   "execution_count": 14,
   "metadata": {
    "_kg_hide-input": true,
    "execution": {
     "iopub.execute_input": "2020-11-21T14:06:13.996820Z",
     "iopub.status.busy": "2020-11-21T14:06:13.995460Z",
     "iopub.status.idle": "2020-11-21T14:06:14.324313Z",
     "shell.execute_reply": "2020-11-21T14:06:14.325228Z"
    },
    "papermill": {
     "duration": 0.387832,
     "end_time": "2020-11-21T14:06:14.325436",
     "exception": false,
     "start_time": "2020-11-21T14:06:13.937604",
     "status": "completed"
    },
    "tags": []
   },
   "outputs": [
    {
     "data": {
      "text/plain": [
       "Text(0.5, 1.0, 'Length Histogram')"
      ]
     },
     "execution_count": 14,
     "metadata": {},
     "output_type": "execute_result"
    },
    {
     "data": {
      "image/png": "[encoded data removed]",
      "text/plain": [
       "<Figure size 720x360 with 1 Axes>"
      ]
     },
     "metadata": {},
     "output_type": "display_data"
    }
   ],
   "source": [
    "plt.style.use('seaborn-darkgrid')\n",
    "plt.figure(figsize=(10,5))\n",
    "sns.distplot(df['len'],kde=False,color='red',hist=True)\n",
    "plt.xlabel(\"Message Length\",size=15)\n",
    "plt.ylabel(\"Frequency\",size=15)\n",
    "plt.title(\"Length Histogram\",size=15)"
   ]
  },
  {
   "cell_type": "code",
   "execution_count": 15,
   "metadata": {
    "_kg_hide-input": true,
    "execution": {
     "iopub.execute_input": "2020-11-21T14:06:14.514389Z",
     "iopub.status.busy": "2020-11-21T14:06:14.513400Z",
     "iopub.status.idle": "2020-11-21T14:06:15.011055Z",
     "shell.execute_reply": "2020-11-21T14:06:15.008053Z"
    },
    "papermill": {
     "duration": 0.606835,
     "end_time": "2020-11-21T14:06:15.011219",
     "exception": false,
     "start_time": "2020-11-21T14:06:14.404384",
     "status": "completed"
    },
    "tags": []
   },
   "outputs": [
    {
     "data": {
      "text/plain": [
       "Text(0.5, 0, 'Message Length')"
      ]
     },
     "execution_count": 15,
     "metadata": {},
     "output_type": "execute_result"
    },
    {
     "data": {
      "image/png": "[encoded data removed]",
      "text/plain": [
       "<Figure size 864x576 with 1 Axes>"
      ]
     },
     "metadata": {},
     "output_type": "display_data"
    }
   ],
   "source": [
    "plt.figure(figsize=(12, 8))\n",
    "\n",
    "df[df['Label']=='ham'].len.plot(bins=35, kind='hist', color='red', \n",
    "                                       label='Ham messages', alpha=0.6)\n",
    "df[df['Label']=='spam'].len.plot(kind='hist', color='blue', \n",
    "                                       label='Spam messages', alpha=0.6)\n",
    "plt.legend()\n",
    "plt.xlabel(\"Message Length\")"
   ]
  },
  {
   "cell_type": "markdown",
   "metadata": {
    "papermill": {
     "duration": 0.057384,
     "end_time": "2020-11-21T14:06:15.126665",
     "exception": false,
     "start_time": "2020-11-21T14:06:15.069281",
     "status": "completed"
    },
    "tags": []
   },
   "source": [
    "From this we can see that, spam label messages are of shorter length than ham messages"
   ]
  },
  {
   "cell_type": "markdown",
   "metadata": {
    "papermill": {
     "duration": 0.049628,
     "end_time": "2020-11-21T14:06:15.238636",
     "exception": false,
     "start_time": "2020-11-21T14:06:15.189008",
     "status": "completed"
    },
    "tags": []
   },
   "source": [
    "# Data Preprocessing"
   ]
  },
  {
   "cell_type": "code",
   "execution_count": 16,
   "metadata": {
    "execution": {
     "iopub.execute_input": "2020-11-21T14:06:15.353775Z",
     "iopub.status.busy": "2020-11-21T14:06:15.352731Z",
     "iopub.status.idle": "2020-11-21T14:06:16.423292Z",
     "shell.execute_reply": "2020-11-21T14:06:16.424007Z"
    },
    "papermill": {
     "duration": 1.134139,
     "end_time": "2020-11-21T14:06:16.424175",
     "exception": false,
     "start_time": "2020-11-21T14:06:15.290036",
     "status": "completed"
    },
    "tags": []
   },
   "outputs": [
    {
     "name": "stdout",
     "output_type": "stream",
     "text": [
      "[nltk_data] Downloading package stopwords to /usr/share/nltk_data...\n",
      "[nltk_data]   Package stopwords is already up-to-date!\n"
     ]
    }
   ],
   "source": [
    "import re\n",
    "import nltk\n",
    "nltk.download('stopwords')\n",
    "\n",
    "from nltk.corpus import stopwords\n",
    "from nltk.stem.porter import PorterStemmer"
   ]
  },
  {
   "cell_type": "code",
   "execution_count": 17,
   "metadata": {
    "execution": {
     "iopub.execute_input": "2020-11-21T14:06:16.531677Z",
     "iopub.status.busy": "2020-11-21T14:06:16.531068Z",
     "iopub.status.idle": "2020-11-21T14:06:31.984001Z",
     "shell.execute_reply": "2020-11-21T14:06:31.982771Z"
    },
    "papermill": {
     "duration": 15.512205,
     "end_time": "2020-11-21T14:06:31.984137",
     "exception": false,
     "start_time": "2020-11-21T14:06:16.471932",
     "status": "completed"
    },
    "tags": []
   },
   "outputs": [],
   "source": [
    "ps = PorterStemmer() # Using porterstemmer for text preprocessing\n",
    "message = []\n",
    "for i in range(0, df.shape[0]):\n",
    "    review = re.sub('[^a-zA-Z]', ' ', df['Msg'][i])\n",
    "    review = review.lower()\n",
    "    review = review.split()\n",
    "    review = [ps.stem(word) for word in review if not word in stopwords.words('english')]\n",
    "    review = ' '.join(review)\n",
    "    message.append(review)"
   ]
  },
  {
   "cell_type": "code",
   "execution_count": 18,
   "metadata": {
    "execution": {
     "iopub.execute_input": "2020-11-21T14:06:32.098163Z",
     "iopub.status.busy": "2020-11-21T14:06:32.097177Z",
     "iopub.status.idle": "2020-11-21T14:06:32.819926Z",
     "shell.execute_reply": "2020-11-21T14:06:32.820705Z"
    },
    "papermill": {
     "duration": 0.781466,
     "end_time": "2020-11-21T14:06:32.820934",
     "exception": false,
     "start_time": "2020-11-21T14:06:32.039468",
     "status": "completed"
    },
    "tags": []
   },
   "outputs": [
    {
     "data": {
      "text/html": [
       "<div>\n",
       "<style scoped>\n",
       "    .dataframe tbody tr th:only-of-type {\n",
       "        vertical-align: middle;\n",
       "    }\n",
       "\n",
       "    .dataframe tbody tr th {\n",
       "        vertical-align: top;\n",
       "    }\n",
       "\n",
       "    .dataframe thead th {\n",
       "        text-align: right;\n",
       "    }\n",
       "</style>\n",
       "<table border=\"1\" class=\"dataframe\">\n",
       "  <thead>\n",
       "    <tr style=\"text-align: right;\">\n",
       "      <th></th>\n",
       "      <th>Label</th>\n",
       "      <th>Msg</th>\n",
       "      <th>len</th>\n",
       "      <th>clean_msg</th>\n",
       "      <th>clean_msg_len</th>\n",
       "    </tr>\n",
       "  </thead>\n",
       "  <tbody>\n",
       "    <tr>\n",
       "      <th>0</th>\n",
       "      <td>ham</td>\n",
       "      <td>Go until jurong point, crazy.. Available only ...</td>\n",
       "      <td>111</td>\n",
       "      <td>go jurong point crazi avail bugi n great world...</td>\n",
       "      <td>76</td>\n",
       "    </tr>\n",
       "    <tr>\n",
       "      <th>1</th>\n",
       "      <td>ham</td>\n",
       "      <td>Ok lar... Joking wif u oni...</td>\n",
       "      <td>29</td>\n",
       "      <td>ok lar joke wif u oni</td>\n",
       "      <td>21</td>\n",
       "    </tr>\n",
       "    <tr>\n",
       "      <th>2</th>\n",
       "      <td>spam</td>\n",
       "      <td>Free entry in 2 a wkly comp to win FA Cup fina...</td>\n",
       "      <td>155</td>\n",
       "      <td>free entri wkli comp win fa cup final tkt st m...</td>\n",
       "      <td>99</td>\n",
       "    </tr>\n",
       "    <tr>\n",
       "      <th>3</th>\n",
       "      <td>ham</td>\n",
       "      <td>U dun say so early hor... U c already then say...</td>\n",
       "      <td>49</td>\n",
       "      <td>u dun say earli hor u c alreadi say</td>\n",
       "      <td>35</td>\n",
       "    </tr>\n",
       "    <tr>\n",
       "      <th>4</th>\n",
       "      <td>ham</td>\n",
       "      <td>Nah I don't think he goes to usf, he lives aro...</td>\n",
       "      <td>61</td>\n",
       "      <td>nah think goe usf live around though</td>\n",
       "      <td>36</td>\n",
       "    </tr>\n",
       "  </tbody>\n",
       "</table>\n",
       "</div>"
      ],
      "text/plain": [
       "  Label                                                Msg  len  \\\n",
       "0   ham  Go until jurong point, crazy.. Available only ...  111   \n",
       "1   ham                      Ok lar... Joking wif u oni...   29   \n",
       "2  spam  Free entry in 2 a wkly comp to win FA Cup fina...  155   \n",
       "3   ham  U dun say so early hor... U c already then say...   49   \n",
       "4   ham  Nah I don't think he goes to usf, he lives aro...   61   \n",
       "\n",
       "                                           clean_msg  clean_msg_len  \n",
       "0  go jurong point crazi avail bugi n great world...             76  \n",
       "1                              ok lar joke wif u oni             21  \n",
       "2  free entri wkli comp win fa cup final tkt st m...             99  \n",
       "3                u dun say earli hor u c alreadi say             35  \n",
       "4               nah think goe usf live around though             36  "
      ]
     },
     "execution_count": 18,
     "metadata": {},
     "output_type": "execute_result"
    }
   ],
   "source": [
    "df['clean_msg']=np.empty((len(message),1))\n",
    "for i in range(len(message)):\n",
    "    df['clean_msg'][i]=message[i]\n",
    "df['clean_msg_len']=df['clean_msg'].apply(len)\n",
    "df.head()\n"
   ]
  },
  {
   "cell_type": "code",
   "execution_count": 19,
   "metadata": {
    "execution": {
     "iopub.execute_input": "2020-11-21T14:06:32.979282Z",
     "iopub.status.busy": "2020-11-21T14:06:32.978103Z",
     "iopub.status.idle": "2020-11-21T14:06:32.988357Z",
     "shell.execute_reply": "2020-11-21T14:06:32.989546Z"
    },
    "papermill": {
     "duration": 0.099612,
     "end_time": "2020-11-21T14:06:32.989731",
     "exception": false,
     "start_time": "2020-11-21T14:06:32.890119",
     "status": "completed"
    },
    "tags": []
   },
   "outputs": [
    {
     "data": {
      "text/plain": [
       "count                       5572\n",
       "unique                      5169\n",
       "top       Sorry, I'll call later\n",
       "freq                          30\n",
       "Name: Msg, dtype: object"
      ]
     },
     "execution_count": 19,
     "metadata": {},
     "output_type": "execute_result"
    }
   ],
   "source": [
    "df['Msg'].describe()"
   ]
  },
  {
   "cell_type": "code",
   "execution_count": 20,
   "metadata": {
    "execution": {
     "iopub.execute_input": "2020-11-21T14:06:33.135649Z",
     "iopub.status.busy": "2020-11-21T14:06:33.134458Z",
     "iopub.status.idle": "2020-11-21T14:06:33.147244Z",
     "shell.execute_reply": "2020-11-21T14:06:33.146195Z"
    },
    "papermill": {
     "duration": 0.087279,
     "end_time": "2020-11-21T14:06:33.147358",
     "exception": false,
     "start_time": "2020-11-21T14:06:33.060079",
     "status": "completed"
    },
    "tags": []
   },
   "outputs": [
    {
     "data": {
      "text/plain": [
       "count                 5572\n",
       "unique                5056\n",
       "top       sorri call later\n",
       "freq                    30\n",
       "Name: clean_msg, dtype: object"
      ]
     },
     "execution_count": 20,
     "metadata": {},
     "output_type": "execute_result"
    }
   ],
   "source": [
    "df['clean_msg'].describe()"
   ]
  },
  {
   "cell_type": "code",
   "execution_count": 21,
   "metadata": {
    "execution": {
     "iopub.execute_input": "2020-11-21T14:06:33.252520Z",
     "iopub.status.busy": "2020-11-21T14:06:33.251817Z",
     "iopub.status.idle": "2020-11-21T14:06:33.271543Z",
     "shell.execute_reply": "2020-11-21T14:06:33.270883Z"
    },
    "papermill": {
     "duration": 0.075237,
     "end_time": "2020-11-21T14:06:33.271663",
     "exception": false,
     "start_time": "2020-11-21T14:06:33.196426",
     "status": "completed"
    },
    "tags": []
   },
   "outputs": [
    {
     "data": {
      "text/html": [
       "<div>\n",
       "<style scoped>\n",
       "    .dataframe tbody tr th:only-of-type {\n",
       "        vertical-align: middle;\n",
       "    }\n",
       "\n",
       "    .dataframe tbody tr th {\n",
       "        vertical-align: top;\n",
       "    }\n",
       "\n",
       "    .dataframe thead th {\n",
       "        text-align: right;\n",
       "    }\n",
       "</style>\n",
       "<table border=\"1\" class=\"dataframe\">\n",
       "  <thead>\n",
       "    <tr style=\"text-align: right;\">\n",
       "      <th></th>\n",
       "      <th>Msg</th>\n",
       "      <th>len</th>\n",
       "      <th>clean_msg</th>\n",
       "      <th>clean_msg_len</th>\n",
       "      <th>label</th>\n",
       "    </tr>\n",
       "  </thead>\n",
       "  <tbody>\n",
       "    <tr>\n",
       "      <th>0</th>\n",
       "      <td>Go until jurong point, crazy.. Available only ...</td>\n",
       "      <td>111</td>\n",
       "      <td>go jurong point crazi avail bugi n great world...</td>\n",
       "      <td>76</td>\n",
       "      <td>1</td>\n",
       "    </tr>\n",
       "    <tr>\n",
       "      <th>1</th>\n",
       "      <td>Ok lar... Joking wif u oni...</td>\n",
       "      <td>29</td>\n",
       "      <td>ok lar joke wif u oni</td>\n",
       "      <td>21</td>\n",
       "      <td>1</td>\n",
       "    </tr>\n",
       "    <tr>\n",
       "      <th>2</th>\n",
       "      <td>Free entry in 2 a wkly comp to win FA Cup fina...</td>\n",
       "      <td>155</td>\n",
       "      <td>free entri wkli comp win fa cup final tkt st m...</td>\n",
       "      <td>99</td>\n",
       "      <td>0</td>\n",
       "    </tr>\n",
       "    <tr>\n",
       "      <th>3</th>\n",
       "      <td>U dun say so early hor... U c already then say...</td>\n",
       "      <td>49</td>\n",
       "      <td>u dun say earli hor u c alreadi say</td>\n",
       "      <td>35</td>\n",
       "      <td>1</td>\n",
       "    </tr>\n",
       "    <tr>\n",
       "      <th>4</th>\n",
       "      <td>Nah I don't think he goes to usf, he lives aro...</td>\n",
       "      <td>61</td>\n",
       "      <td>nah think goe usf live around though</td>\n",
       "      <td>36</td>\n",
       "      <td>1</td>\n",
       "    </tr>\n",
       "  </tbody>\n",
       "</table>\n",
       "</div>"
      ],
      "text/plain": [
       "                                                 Msg  len  \\\n",
       "0  Go until jurong point, crazy.. Available only ...  111   \n",
       "1                      Ok lar... Joking wif u oni...   29   \n",
       "2  Free entry in 2 a wkly comp to win FA Cup fina...  155   \n",
       "3  U dun say so early hor... U c already then say...   49   \n",
       "4  Nah I don't think he goes to usf, he lives aro...   61   \n",
       "\n",
       "                                           clean_msg  clean_msg_len  label  \n",
       "0  go jurong point crazi avail bugi n great world...             76      1  \n",
       "1                              ok lar joke wif u oni             21      1  \n",
       "2  free entri wkli comp win fa cup final tkt st m...             99      0  \n",
       "3                u dun say earli hor u c alreadi say             35      1  \n",
       "4               nah think goe usf live around though             36      1  "
      ]
     },
     "execution_count": 21,
     "metadata": {},
     "output_type": "execute_result"
    }
   ],
   "source": [
    "df=pd.concat([df, pd.get_dummies(df['Label'])], axis=1)\n",
    "df.drop(['Label'],axis=1,inplace=True)\n",
    "df.drop(['spam'],axis=1,inplace=True)\n",
    "df.rename(columns={'ham':'label'},inplace=True)\n",
    "df.head()"
   ]
  },
  {
   "cell_type": "markdown",
   "metadata": {
    "papermill": {
     "duration": 0.046505,
     "end_time": "2020-11-21T14:06:33.365442",
     "exception": false,
     "start_time": "2020-11-21T14:06:33.318937",
     "status": "completed"
    },
    "tags": []
   },
   "source": [
    "\n",
    "**Note**: 1-Ham, 0-Spam"
   ]
  },
  {
   "cell_type": "markdown",
   "metadata": {
    "papermill": {
     "duration": 0.048896,
     "end_time": "2020-11-21T14:06:33.460456",
     "exception": false,
     "start_time": "2020-11-21T14:06:33.411560",
     "status": "completed"
    },
    "tags": []
   },
   "source": [
    "# Vectorization"
   ]
  },
  {
   "cell_type": "code",
   "execution_count": 22,
   "metadata": {
    "execution": {
     "iopub.execute_input": "2020-11-21T14:06:33.566502Z",
     "iopub.status.busy": "2020-11-21T14:06:33.565572Z",
     "iopub.status.idle": "2020-11-21T14:06:33.569219Z",
     "shell.execute_reply": "2020-11-21T14:06:33.569749Z"
    },
    "papermill": {
     "duration": 0.059795,
     "end_time": "2020-11-21T14:06:33.569897",
     "exception": false,
     "start_time": "2020-11-21T14:06:33.510102",
     "status": "completed"
    },
    "tags": []
   },
   "outputs": [
    {
     "data": {
      "text/plain": [
       "0       go jurong point crazi avail bugi n great world...\n",
       "1                                   ok lar joke wif u oni\n",
       "2       free entri wkli comp win fa cup final tkt st m...\n",
       "3                     u dun say earli hor u c alreadi say\n",
       "4                    nah think goe usf live around though\n",
       "                              ...                        \n",
       "5567    nd time tri contact u u pound prize claim easi...\n",
       "5568                                b go esplanad fr home\n",
       "5569                                    piti mood suggest\n",
       "5570    guy bitch act like interest buy someth els nex...\n",
       "5571                                       rofl true name\n",
       "Name: clean_msg, Length: 5572, dtype: object"
      ]
     },
     "execution_count": 22,
     "metadata": {},
     "output_type": "execute_result"
    }
   ],
   "source": [
    "X=df['clean_msg']\n",
    "X"
   ]
  },
  {
   "cell_type": "code",
   "execution_count": 23,
   "metadata": {
    "execution": {
     "iopub.execute_input": "2020-11-21T14:06:33.672829Z",
     "iopub.status.busy": "2020-11-21T14:06:33.671208Z",
     "iopub.status.idle": "2020-11-21T14:06:33.673775Z",
     "shell.execute_reply": "2020-11-21T14:06:33.674427Z"
    },
    "papermill": {
     "duration": 0.055322,
     "end_time": "2020-11-21T14:06:33.674561",
     "exception": false,
     "start_time": "2020-11-21T14:06:33.619239",
     "status": "completed"
    },
    "tags": []
   },
   "outputs": [],
   "source": [
    "Y=df['label']\n"
   ]
  },
  {
   "cell_type": "markdown",
   "metadata": {
    "papermill": {
     "duration": 0.048689,
     "end_time": "2020-11-21T14:06:33.771703",
     "exception": false,
     "start_time": "2020-11-21T14:06:33.723014",
     "status": "completed"
    },
    "tags": []
   },
   "source": [
    "**Note: I'm using Countvectorizer for vectorization**"
   ]
  },
  {
   "cell_type": "code",
   "execution_count": 24,
   "metadata": {
    "execution": {
     "iopub.execute_input": "2020-11-21T14:06:33.929599Z",
     "iopub.status.busy": "2020-11-21T14:06:33.914250Z",
     "iopub.status.idle": "2020-11-21T14:06:34.058694Z",
     "shell.execute_reply": "2020-11-21T14:06:34.059272Z"
    },
    "papermill": {
     "duration": 0.222739,
     "end_time": "2020-11-21T14:06:34.059424",
     "exception": false,
     "start_time": "2020-11-21T14:06:33.836685",
     "status": "completed"
    },
    "tags": []
   },
   "outputs": [
    {
     "data": {
      "text/plain": [
       "array([[0, 0, 0, ..., 0, 0, 0],\n",
       "       [0, 0, 0, ..., 0, 0, 0],\n",
       "       [0, 0, 0, ..., 0, 0, 0],\n",
       "       ...,\n",
       "       [0, 0, 0, ..., 0, 0, 0],\n",
       "       [0, 0, 0, ..., 0, 0, 0],\n",
       "       [0, 0, 0, ..., 0, 0, 0]])"
      ]
     },
     "execution_count": 24,
     "metadata": {},
     "output_type": "execute_result"
    }
   ],
   "source": [
    "from sklearn.feature_extraction.text import CountVectorizer\n",
    "cv = CountVectorizer(max_features=2500)\n",
    "X = cv.fit_transform(message).toarray()\n",
    "X\n",
    "\n",
    "\n",
    "\n"
   ]
  },
  {
   "cell_type": "code",
   "execution_count": 25,
   "metadata": {
    "execution": {
     "iopub.execute_input": "2020-11-21T14:06:34.170169Z",
     "iopub.status.busy": "2020-11-21T14:06:34.169362Z",
     "iopub.status.idle": "2020-11-21T14:06:34.173343Z",
     "shell.execute_reply": "2020-11-21T14:06:34.173947Z"
    },
    "papermill": {
     "duration": 0.066199,
     "end_time": "2020-11-21T14:06:34.174095",
     "exception": false,
     "start_time": "2020-11-21T14:06:34.107896",
     "status": "completed"
    },
    "tags": []
   },
   "outputs": [
    {
     "data": {
      "text/plain": [
       "numpy.ndarray"
      ]
     },
     "execution_count": 25,
     "metadata": {},
     "output_type": "execute_result"
    }
   ],
   "source": [
    "# print(X)\n",
    "Y=np.array(Y)\n",
    "type(Y)\n",
    "# t(Y)"
   ]
  },
  {
   "cell_type": "markdown",
   "metadata": {
    "papermill": {
     "duration": 0.055291,
     "end_time": "2020-11-21T14:06:34.289972",
     "exception": false,
     "start_time": "2020-11-21T14:06:34.234681",
     "status": "completed"
    },
    "tags": []
   },
   "source": [
    "# Model Training"
   ]
  },
  {
   "cell_type": "code",
   "execution_count": 26,
   "metadata": {
    "execution": {
     "iopub.execute_input": "2020-11-21T14:06:34.404815Z",
     "iopub.status.busy": "2020-11-21T14:06:34.403502Z",
     "iopub.status.idle": "2020-11-21T14:06:34.455911Z",
     "shell.execute_reply": "2020-11-21T14:06:34.455307Z"
    },
    "papermill": {
     "duration": 0.11024,
     "end_time": "2020-11-21T14:06:34.456034",
     "exception": false,
     "start_time": "2020-11-21T14:06:34.345794",
     "status": "completed"
    },
    "tags": []
   },
   "outputs": [],
   "source": [
    "from sklearn.model_selection import train_test_split\n",
    "X_train, X_test, y_train, y_test = train_test_split(X, Y, test_size = 0.10, random_state = 0)\n"
   ]
  },
  {
   "cell_type": "code",
   "execution_count": 27,
   "metadata": {
    "execution": {
     "iopub.execute_input": "2020-11-21T14:06:34.576859Z",
     "iopub.status.busy": "2020-11-21T14:06:34.575854Z",
     "iopub.status.idle": "2020-11-21T14:06:34.581063Z",
     "shell.execute_reply": "2020-11-21T14:06:34.582218Z"
    },
    "papermill": {
     "duration": 0.06864,
     "end_time": "2020-11-21T14:06:34.582413",
     "exception": false,
     "start_time": "2020-11-21T14:06:34.513773",
     "status": "completed"
    },
    "tags": []
   },
   "outputs": [
    {
     "name": "stdout",
     "output_type": "stream",
     "text": [
      "X_train shape: (5014, 2500)\n",
      " X_test shape: (558, 2500)\n",
      "Y_train shape: (5014,)\n",
      "Y_test shape: (558,)\n"
     ]
    }
   ],
   "source": [
    "print(\"X_train shape: {}\\n X_test shape: {}\\nY_train shape: {}\\nY_test shape: {}\".format(X_train.shape,X_test.shape,y_train.shape,y_test.shape))"
   ]
  },
  {
   "cell_type": "code",
   "execution_count": 28,
   "metadata": {
    "execution": {
     "iopub.execute_input": "2020-11-21T14:06:34.696513Z",
     "iopub.status.busy": "2020-11-21T14:06:34.695686Z",
     "iopub.status.idle": "2020-11-21T14:06:34.698770Z",
     "shell.execute_reply": "2020-11-21T14:06:34.698269Z"
    },
    "papermill": {
     "duration": 0.057524,
     "end_time": "2020-11-21T14:06:34.698891",
     "exception": false,
     "start_time": "2020-11-21T14:06:34.641367",
     "status": "completed"
    },
    "tags": []
   },
   "outputs": [],
   "source": [
    "# list for storing accuracy score of different algorithms\n",
    "acc=[]"
   ]
  },
  {
   "cell_type": "markdown",
   "metadata": {
    "papermill": {
     "duration": 0.050583,
     "end_time": "2020-11-21T14:06:34.800899",
     "exception": false,
     "start_time": "2020-11-21T14:06:34.750316",
     "status": "completed"
    },
    "tags": []
   },
   "source": [
    "**Naive Bayes Classifier**"
   ]
  },
  {
   "cell_type": "code",
   "execution_count": 29,
   "metadata": {
    "execution": {
     "iopub.execute_input": "2020-11-21T14:06:34.914123Z",
     "iopub.status.busy": "2020-11-21T14:06:34.913410Z",
     "iopub.status.idle": "2020-11-21T14:06:35.021805Z",
     "shell.execute_reply": "2020-11-21T14:06:35.022390Z"
    },
    "papermill": {
     "duration": 0.168768,
     "end_time": "2020-11-21T14:06:35.022532",
     "exception": false,
     "start_time": "2020-11-21T14:06:34.853764",
     "status": "completed"
    },
    "tags": []
   },
   "outputs": [
    {
     "name": "stdout",
     "output_type": "stream",
     "text": [
      "Accuracy of Naive Bayes Classifier is: 0.9802867383512545\n"
     ]
    }
   ],
   "source": [
    "from sklearn import metrics\n",
    "from sklearn.naive_bayes import MultinomialNB\n",
    "spam_detect_model = MultinomialNB().fit(X_train, y_train)\n",
    "pred=spam_detect_model.predict(X_test)\n",
    "\n",
    "print(\"Accuracy of Naive Bayes Classifier is: {}\".format(metrics.accuracy_score(y_test,pred)))\n",
    "acc.append(metrics.accuracy_score(y_test,pred))"
   ]
  },
  {
   "cell_type": "markdown",
   "metadata": {
    "papermill": {
     "duration": 0.051296,
     "end_time": "2020-11-21T14:06:35.124288",
     "exception": false,
     "start_time": "2020-11-21T14:06:35.072992",
     "status": "completed"
    },
    "tags": []
   },
   "source": [
    "**Logistic Regression**"
   ]
  },
  {
   "cell_type": "code",
   "execution_count": 30,
   "metadata": {
    "execution": {
     "iopub.execute_input": "2020-11-21T14:06:35.231510Z",
     "iopub.status.busy": "2020-11-21T14:06:35.230320Z",
     "iopub.status.idle": "2020-11-21T14:06:35.376312Z",
     "shell.execute_reply": "2020-11-21T14:06:35.374596Z"
    },
    "papermill": {
     "duration": 0.202242,
     "end_time": "2020-11-21T14:06:35.376473",
     "exception": false,
     "start_time": "2020-11-21T14:06:35.174231",
     "status": "completed"
    },
    "tags": []
   },
   "outputs": [
    {
     "name": "stdout",
     "output_type": "stream",
     "text": [
      "LogisticRegression's Accuracy:0.9802867383512545\n"
     ]
    }
   ],
   "source": [
    "from sklearn.linear_model import LogisticRegression\n",
    "LR=LogisticRegression(solver='liblinear')\n",
    "LR.fit(X_train,y_train)\n",
    "yhat = LR.predict(X_test)\n",
    "print(\"LogisticRegression's Accuracy:{0}\".format(metrics.accuracy_score(y_test, yhat)))\n",
    "acc.append(metrics.accuracy_score(y_test,yhat))"
   ]
  },
  {
   "cell_type": "markdown",
   "metadata": {
    "papermill": {
     "duration": 0.058559,
     "end_time": "2020-11-21T14:06:35.488318",
     "exception": false,
     "start_time": "2020-11-21T14:06:35.429759",
     "status": "completed"
    },
    "tags": []
   },
   "source": [
    "**SVM**"
   ]
  },
  {
   "cell_type": "code",
   "execution_count": 31,
   "metadata": {
    "execution": {
     "iopub.execute_input": "2020-11-21T14:06:35.606143Z",
     "iopub.status.busy": "2020-11-21T14:06:35.604926Z",
     "iopub.status.idle": "2020-11-21T14:07:06.509194Z",
     "shell.execute_reply": "2020-11-21T14:07:06.510006Z"
    },
    "papermill": {
     "duration": 30.965456,
     "end_time": "2020-11-21T14:07:06.510200",
     "exception": false,
     "start_time": "2020-11-21T14:06:35.544744",
     "status": "completed"
    },
    "tags": []
   },
   "outputs": [
    {
     "name": "stdout",
     "output_type": "stream",
     "text": [
      "SVM's Accuracy:0.9767025089605734\n"
     ]
    }
   ],
   "source": [
    "from sklearn import svm\n",
    "clf = svm.SVC(kernel='rbf')\n",
    "clf.fit(X_train, y_train) \n",
    "yhat = clf.predict(X_test)\n",
    "print(\"SVM's Accuracy:{0}\".format(metrics.accuracy_score(y_test, yhat)))\n",
    "acc.append(metrics.accuracy_score(y_test, yhat))"
   ]
  },
  {
   "cell_type": "markdown",
   "metadata": {
    "papermill": {
     "duration": 0.054393,
     "end_time": "2020-11-21T14:07:06.619753",
     "exception": false,
     "start_time": "2020-11-21T14:07:06.565360",
     "status": "completed"
    },
    "tags": []
   },
   "source": [
    "**Random Forest Classifier**"
   ]
  },
  {
   "cell_type": "code",
   "execution_count": 32,
   "metadata": {
    "execution": {
     "iopub.execute_input": "2020-11-21T14:07:06.726185Z",
     "iopub.status.busy": "2020-11-21T14:07:06.725368Z",
     "iopub.status.idle": "2020-11-21T14:07:11.093679Z",
     "shell.execute_reply": "2020-11-21T14:07:11.094329Z"
    },
    "papermill": {
     "duration": 4.424502,
     "end_time": "2020-11-21T14:07:11.094498",
     "exception": false,
     "start_time": "2020-11-21T14:07:06.669996",
     "status": "completed"
    },
    "tags": []
   },
   "outputs": [
    {
     "name": "stdout",
     "output_type": "stream",
     "text": [
      "Random Forest Score : 0.982078853046595\n"
     ]
    }
   ],
   "source": [
    "from sklearn.ensemble import RandomForestClassifier\n",
    "Random_forest = RandomForestClassifier(n_estimators=50)\n",
    "Random_forest.fit(X_train,y_train)\n",
    "randomForest_predict = Random_forest.predict(X_test)\n",
    "randomForest_score = metrics.accuracy_score(y_test, randomForest_predict)\n",
    "print(\"Random Forest Score :\",randomForest_score)\n",
    "acc.append(metrics.accuracy_score(y_test,randomForest_predict ))"
   ]
  },
  {
   "cell_type": "markdown",
   "metadata": {
    "papermill": {
     "duration": 0.049327,
     "end_time": "2020-11-21T14:07:11.194066",
     "exception": false,
     "start_time": "2020-11-21T14:07:11.144739",
     "status": "completed"
    },
    "tags": []
   },
   "source": [
    "**Gradient Boosting**"
   ]
  },
  {
   "cell_type": "code",
   "execution_count": 33,
   "metadata": {
    "execution": {
     "iopub.execute_input": "2020-11-21T14:07:11.302114Z",
     "iopub.status.busy": "2020-11-21T14:07:11.300983Z",
     "iopub.status.idle": "2020-11-21T14:08:53.097447Z",
     "shell.execute_reply": "2020-11-21T14:08:53.098257Z"
    },
    "papermill": {
     "duration": 101.854516,
     "end_time": "2020-11-21T14:08:53.098441",
     "exception": false,
     "start_time": "2020-11-21T14:07:11.243925",
     "status": "completed"
    },
    "tags": []
   },
   "outputs": [
    {
     "name": "stdout",
     "output_type": "stream",
     "text": [
      "Gradient Boosting Score : 0.9767025089605734\n"
     ]
    }
   ],
   "source": [
    "from sklearn.ensemble import GradientBoostingClassifier\n",
    "gbk = GradientBoostingClassifier(random_state=100, n_estimators=150,min_samples_split=100, max_depth=6)\n",
    "gbk.fit(X_train, y_train)\n",
    "gbk_predict = gbk.predict(X_test)\n",
    "print(\"Gradient Boosting Score :\",metrics.accuracy_score(y_test,gbk_predict ))\n",
    "acc.append(metrics.accuracy_score(y_test,gbk_predict ))"
   ]
  },
  {
   "cell_type": "markdown",
   "metadata": {
    "papermill": {
     "duration": 0.049424,
     "end_time": "2020-11-21T14:08:53.197726",
     "exception": false,
     "start_time": "2020-11-21T14:08:53.148302",
     "status": "completed"
    },
    "tags": []
   },
   "source": [
    "**KNN**"
   ]
  },
  {
   "cell_type": "code",
   "execution_count": 34,
   "metadata": {
    "_kg_hide-output": true,
    "execution": {
     "iopub.execute_input": "2020-11-21T14:08:53.304189Z",
     "iopub.status.busy": "2020-11-21T14:08:53.303520Z",
     "iopub.status.idle": "2020-11-21T14:14:54.459688Z",
     "shell.execute_reply": "2020-11-21T14:14:54.459078Z"
    },
    "papermill": {
     "duration": 361.212439,
     "end_time": "2020-11-21T14:14:54.459816",
     "exception": false,
     "start_time": "2020-11-21T14:08:53.247377",
     "status": "completed"
    },
    "tags": []
   },
   "outputs": [
    {
     "name": "stdout",
     "output_type": "stream",
     "text": [
      "KNN Accuracy at 1 is 0.953405017921147\n",
      "\n",
      "\n",
      "KNN Accuracy at 2 is 0.9587813620071685\n",
      "\n",
      "\n",
      "KNN Accuracy at 3 is 0.9265232974910395\n",
      "\n",
      "\n",
      "KNN Accuracy at 4 is 0.9283154121863799\n",
      "\n",
      "\n",
      "KNN Accuracy at 5 is 0.9121863799283154\n",
      "\n",
      "\n",
      "KNN Accuracy at 6 is 0.9175627240143369\n",
      "\n",
      "\n",
      "KNN Accuracy at 7 is 0.8924731182795699\n",
      "\n",
      "\n",
      "KNN Accuracy at 8 is 0.8942652329749103\n",
      "\n",
      "\n",
      "KNN Accuracy at 9 is 0.8870967741935484\n",
      "\n",
      "\n",
      "KNN Accuracy at 10 is 0.8870967741935484\n",
      "\n",
      "\n",
      "KNN Accuracy at 11 is 0.8817204301075269\n",
      "\n",
      "\n",
      "KNN Accuracy at 12 is 0.8817204301075269\n",
      "\n",
      "\n",
      "KNN Accuracy at 13 is 0.8727598566308243\n",
      "\n",
      "\n",
      "KNN Accuracy at 14 is 0.8745519713261649\n",
      "\n",
      "\n",
      "KNN Accuracy at 15 is 0.8727598566308243\n",
      "\n",
      "\n",
      "KNN Accuracy at 16 is 0.8745519713261649\n",
      "\n",
      "\n",
      "KNN Accuracy at 17 is 0.8673835125448028\n",
      "\n",
      "\n",
      "KNN Accuracy at 18 is 0.8673835125448028\n",
      "\n",
      "\n",
      "KNN Accuracy at 19 is 0.8620071684587813\n",
      "\n",
      "\n",
      "KNN Accuracy at 20 is 0.8620071684587813\n",
      "\n",
      "\n",
      "KNN Accuracy at 21 is 0.8620071684587813\n",
      "\n",
      "\n",
      "KNN Accuracy at 22 is 0.8620071684587813\n",
      "\n",
      "\n",
      "KNN Accuracy at 23 is 0.8584229390681004\n",
      "\n",
      "\n",
      "KNN Accuracy at 24 is 0.8584229390681004\n",
      "\n",
      "\n"
     ]
    },
    {
     "data": {
      "text/plain": [
       "0.9587813620071685"
      ]
     },
     "execution_count": 34,
     "metadata": {},
     "output_type": "execute_result"
    }
   ],
   "source": [
    "from sklearn.neighbors import KNeighborsClassifier\n",
    "mx=-1\n",
    "for i in range(1,25):\n",
    "    \n",
    "    neigh=KNeighborsClassifier(n_neighbors = i).fit(X_train,y_train)\n",
    "    yhat = neigh.predict(X_test)\n",
    "    KNN_score=metrics.accuracy_score(y_test, yhat)\n",
    "    print(\"KNN Accuracy at {} is {}\".format(i,KNN_score))\n",
    "    mx=max(mx,KNN_score)\n",
    "    print(\"\\n\")\n",
    "acc.append(mx)\n",
    "mx"
   ]
  },
  {
   "cell_type": "markdown",
   "metadata": {
    "papermill": {
     "duration": 0.079104,
     "end_time": "2020-11-21T14:14:54.598440",
     "exception": false,
     "start_time": "2020-11-21T14:14:54.519336",
     "status": "completed"
    },
    "tags": []
   },
   "source": [
    "# Conclusion"
   ]
  },
  {
   "cell_type": "code",
   "execution_count": 35,
   "metadata": {
    "execution": {
     "iopub.execute_input": "2020-11-21T14:14:54.751044Z",
     "iopub.status.busy": "2020-11-21T14:14:54.750289Z",
     "iopub.status.idle": "2020-11-21T14:14:54.899680Z",
     "shell.execute_reply": "2020-11-21T14:14:54.898789Z"
    },
    "papermill": {
     "duration": 0.24148,
     "end_time": "2020-11-21T14:14:54.899815",
     "exception": false,
     "start_time": "2020-11-21T14:14:54.658335",
     "status": "completed"
    },
    "tags": []
   },
   "outputs": [
    {
     "data": {
      "text/plain": [
       "Text(0, 0.5, 'Accuracy')"
      ]
     },
     "execution_count": 35,
     "metadata": {},
     "output_type": "execute_result"
    },
    {
     "data": {
      "image/png": "[encoded data removed]",
      "text/plain": [
       "<Figure size 720x576 with 1 Axes>"
      ]
     },
     "metadata": {},
     "output_type": "display_data"
    }
   ],
   "source": [
    "algo_name=['Naive Bayes Classifier','Logistic Regression','SVM','Random Forest Classifier','Gradient Boosting','KNN']\n",
    "acc=np.array(acc)\n",
    "from numpy import median\n",
    "plt.figure(figsize=(10,8))\n",
    "sns.barplot(y=acc*100,x=algo_name,estimator=median,palette=\"Blues_d\")\n",
    "plt.xlabel('Algorithm Name',size=30)\n",
    "plt.xticks(rotation=45)\n",
    "plt.ylabel('Accuracy',size=30)\n",
    "\n"
   ]
  },
  {
   "cell_type": "markdown",
   "metadata": {
    "papermill": {
     "duration": 0.0603,
     "end_time": "2020-11-21T14:14:55.022878",
     "exception": false,
     "start_time": "2020-11-21T14:14:54.962578",
     "status": "completed"
    },
    "tags": []
   },
   "source": [
    "# Please Upvote, if you found this notebook helpful."
   ]
  },
  {
   "cell_type": "code",
   "execution_count": null,
   "metadata": {
    "papermill": {
     "duration": 0.059512,
     "end_time": "2020-11-21T14:14:55.143028",
     "exception": false,
     "start_time": "2020-11-21T14:14:55.083516",
     "status": "completed"
    },
    "tags": []
   },
   "outputs": [],
   "source": []
  }
 ],
 "metadata": {
  "kernelspec": {
   "display_name": "Python 3",
   "language": "python",
   "name": "python3"
  },
  "language_info": {
   "codemirror_mode": {
    "name": "ipython",
    "version": 3
   },
   "file_extension": ".py",
   "mimetype": "text/x-python",
   "name": "python",
   "nbconvert_exporter": "python",
   "pygments_lexer": "ipython3",
   "version": "3.7.6"
  },
  "papermill": {
   "duration": 528.798653,
   "end_time": "2020-11-21T14:14:55.310185",
   "environment_variables": {},
   "exception": null,
   "input_path": "__notebook__.ipynb",
   "output_path": "__notebook__.ipynb",
   "parameters": {},
   "start_time": "2020-11-21T14:06:06.511532",
   "version": "2.1.0"
  }
 },
 "nbformat": 4,
 "nbformat_minor": 4
}
